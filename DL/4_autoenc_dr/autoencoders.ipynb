{
  "cells": [
    {
      "cell_type": "markdown",
      "metadata": {},
      "source": [
        "# Experiment 4\n",
        "\n",
        "### Aim: Implementation of Autoencoders for dimentionality reduction in Python\n",
        "\n",
        "### Theory:\n",
        "Autoencoders are a type of artificial neural network used for dimensionality reduction, feature learning, and data compression. They work by training a network to encode input data into a lower-dimensional representation and then decode it back to reconstruct the original input. The primary idea is to learn a compact and informative representation of the data.\n",
        "\n",
        "\n",
        "1. Architecture:\n",
        "\n",
        "An autoencoder consists of two main parts:\n",
        "\n",
        "Encoder: This part takes the input data and maps it to a lower-dimensional representation. It is composed of a series of layers (typically fully connected layers or convolutional layers) that reduce the dimensionality of the data.\n",
        "\n",
        "Decoder: The decoder takes the encoded representation and attempts to reconstruct the original data. Like the encoder, it consists of layers that increase the dimensionality back to the original data size.\n",
        "\n",
        "The number of neurons or units in the bottleneck layer, where the dimensionality is reduced, determines the level of compression. Smaller bottleneck layers result in more aggressive dimensionality reduction.\n",
        "\n",
        "2. Objective:\n",
        "\n",
        "The main objective of training an autoencoder is to minimize the reconstruction error. This error is usually measured using a loss function, such as mean squared error (MSE) for continuous data or binary cross-entropy for binary data. During training, the network learns the most essential features and patterns in the data that are necessary for good reconstruction.\n",
        "\n",
        "3. Bottleneck Layer:\n",
        "\n",
        "The bottleneck layer, also known as the latent space or encoding layer, is the core of dimensionality reduction. It captures the most critical information from the input data. By forcing the network to represent the data in this compressed form, autoencoders can effectively reduce the dimensionality while preserving important features.\n",
        "\n",
        "4. Variants:\n",
        "\n",
        "There are various autoencoder variants tailored to different types of data and tasks:\n",
        "\n",
        "Denoising Autoencoder: These autoencoders are trained to recover the original data from noisy or corrupted versions. They help in learning robust representations.\n",
        "\n",
        "Sparse Autoencoder: Sparse autoencoders introduce sparsity constraints on the activations of the hidden units, encouraging them to be selective in what they learn.\n",
        "\n",
        "Variational Autoencoder (VAE): VAEs combine autoencoders with probabilistic modeling. They generate data points by sampling from a probability distribution in the latent space, allowing for the generation of new data.\n",
        "\n",
        "5. Use Cases:\n",
        "\n",
        "Autoencoders find applications in various domains:\n",
        "\n",
        "Dimensionality Reduction: They are used to reduce the dimensionality of data, particularly in high-dimensional spaces, making it easier to visualize and analyze data.\n",
        "\n",
        "Anomaly Detection: Autoencoders can be used to detect anomalies or outliers by reconstructing data points and measuring the reconstruction error. Anomalies often result in higher reconstruction errors.\n",
        "\n",
        "Feature Learning: Autoencoders are utilized to learn informative representations from the data, which can be further used for downstream machine learning tasks.\n",
        "\n",
        "Image Compression: They can be used to compress images, where the encoder learns a compact representation and the decoder reconstructs the image.\n",
        "\n",
        "In summary, autoencoders are neural network architectures used for dimensionality reduction and feature learning. They learn to represent data in a lower-dimensional space, making them valuable tools for various machine learning and data analysis tasks."
      ]
    },
    {
      "cell_type": "code",
      "execution_count": 1,
      "metadata": {
        "id": "WvWXi9KMU8z8"
      },
      "outputs": [],
      "source": [
        "import torch\n",
        "import torch.nn as nn\n",
        "import torch.optim as optim\n",
        "from torchvision import datasets, transforms\n",
        "from torch.utils.data import DataLoader"
      ]
    },
    {
      "cell_type": "code",
      "execution_count": 2,
      "metadata": {
        "id": "xvPX8lo-VckG"
      },
      "outputs": [],
      "source": [
        "class Autoencoder(nn.Module):\n",
        "    def __init__(self, input_dim, encoding_dim):\n",
        "        super(Autoencoder, self).__init__()\n",
        "        self.encoder = nn.Sequential(\n",
        "            nn.Linear(input_dim, encoding_dim),\n",
        "            nn.ReLU()\n",
        "        )\n",
        "        self.decoder = nn.Sequential(\n",
        "            nn.Linear(encoding_dim, input_dim),\n",
        "            nn.Sigmoid()\n",
        "        )\n",
        "\n",
        "    def forward(self, x):\n",
        "        x = self.encoder(x)\n",
        "        x = self.decoder(x)\n",
        "        return x"
      ]
    },
    {
      "cell_type": "code",
      "execution_count": 3,
      "metadata": {
        "colab": {
          "base_uri": "https://localhost:8080/"
        },
        "id": "Vk_lHgdaVmEd",
        "outputId": "e1a591c9-b5e5-4ebe-855e-4a847812e681"
      },
      "outputs": [
        {
          "name": "stdout",
          "output_type": "stream",
          "text": [
            "Downloading http://yann.lecun.com/exdb/mnist/train-images-idx3-ubyte.gz\n",
            "Downloading http://yann.lecun.com/exdb/mnist/train-images-idx3-ubyte.gz to ./data/MNIST/raw/train-images-idx3-ubyte.gz\n"
          ]
        },
        {
          "name": "stderr",
          "output_type": "stream",
          "text": [
            "100%|██████████| 9912422/9912422 [00:00<00:00, 175134529.01it/s]"
          ]
        },
        {
          "name": "stdout",
          "output_type": "stream",
          "text": [
            "Extracting ./data/MNIST/raw/train-images-idx3-ubyte.gz to ./data/MNIST/raw\n"
          ]
        },
        {
          "name": "stderr",
          "output_type": "stream",
          "text": [
            "\n"
          ]
        },
        {
          "name": "stdout",
          "output_type": "stream",
          "text": [
            "\n",
            "Downloading http://yann.lecun.com/exdb/mnist/train-labels-idx1-ubyte.gz\n",
            "Downloading http://yann.lecun.com/exdb/mnist/train-labels-idx1-ubyte.gz to ./data/MNIST/raw/train-labels-idx1-ubyte.gz\n"
          ]
        },
        {
          "name": "stderr",
          "output_type": "stream",
          "text": [
            "100%|██████████| 28881/28881 [00:00<00:00, 44274741.89it/s]\n"
          ]
        },
        {
          "name": "stdout",
          "output_type": "stream",
          "text": [
            "Extracting ./data/MNIST/raw/train-labels-idx1-ubyte.gz to ./data/MNIST/raw\n",
            "\n",
            "Downloading http://yann.lecun.com/exdb/mnist/t10k-images-idx3-ubyte.gz\n",
            "Downloading http://yann.lecun.com/exdb/mnist/t10k-images-idx3-ubyte.gz to ./data/MNIST/raw/t10k-images-idx3-ubyte.gz\n"
          ]
        },
        {
          "name": "stderr",
          "output_type": "stream",
          "text": [
            "100%|██████████| 1648877/1648877 [00:00<00:00, 23418613.95it/s]"
          ]
        },
        {
          "name": "stdout",
          "output_type": "stream",
          "text": [
            "Extracting ./data/MNIST/raw/t10k-images-idx3-ubyte.gz to ./data/MNIST/raw\n"
          ]
        },
        {
          "name": "stderr",
          "output_type": "stream",
          "text": [
            "\n"
          ]
        },
        {
          "name": "stdout",
          "output_type": "stream",
          "text": [
            "\n",
            "Downloading http://yann.lecun.com/exdb/mnist/t10k-labels-idx1-ubyte.gz\n",
            "Downloading http://yann.lecun.com/exdb/mnist/t10k-labels-idx1-ubyte.gz to ./data/MNIST/raw/t10k-labels-idx1-ubyte.gz\n"
          ]
        },
        {
          "name": "stderr",
          "output_type": "stream",
          "text": [
            "100%|██████████| 4542/4542 [00:00<00:00, 19050528.77it/s]\n"
          ]
        },
        {
          "name": "stdout",
          "output_type": "stream",
          "text": [
            "Extracting ./data/MNIST/raw/t10k-labels-idx1-ubyte.gz to ./data/MNIST/raw\n",
            "\n",
            "60000\n",
            "938\n"
          ]
        }
      ],
      "source": [
        "transform = transforms.Compose([transforms.ToTensor()])\n",
        "train_dataset = datasets.MNIST(root='./data', train=True, transform=transform, download=True)\n",
        "train_loader = DataLoader(train_dataset, batch_size=64, shuffle=True)\n",
        "\n",
        "print(len(train_dataset))\n",
        "print(len(train_loader))"
      ]
    },
    {
      "cell_type": "code",
      "execution_count": 4,
      "metadata": {
        "id": "ruXbeqM8V0n0"
      },
      "outputs": [],
      "source": [
        "input_dim = 28 * 28\n",
        "encoding_dim = 64\n",
        "autoencoder = Autoencoder(input_dim, encoding_dim)\n",
        "\n",
        "\n",
        "criterion = nn.MSELoss()\n",
        "optimizer = optim.Adam(autoencoder.parameters(), lr=0.001)"
      ]
    },
    {
      "cell_type": "code",
      "execution_count": 5,
      "metadata": {
        "colab": {
          "base_uri": "https://localhost:8080/"
        },
        "id": "AYQ1ku5BV86s",
        "outputId": "7bc7afa0-d541-4614-fcbb-a50c7810a581"
      },
      "outputs": [
        {
          "name": "stdout",
          "output_type": "stream",
          "text": [
            "Epoch [1/10] Loss: 0.0178\n",
            "Epoch [2/10] Loss: 0.0089\n",
            "Epoch [3/10] Loss: 0.0072\n",
            "Epoch [4/10] Loss: 0.0075\n",
            "Epoch [5/10] Loss: 0.0067\n",
            "Epoch [6/10] Loss: 0.0063\n",
            "Epoch [7/10] Loss: 0.0057\n",
            "Epoch [8/10] Loss: 0.0053\n",
            "Epoch [9/10] Loss: 0.0043\n",
            "Epoch [10/10] Loss: 0.0043\n",
            "Training complete!\n"
          ]
        }
      ],
      "source": [
        "num_epochs = 10\n",
        "for epoch in range(num_epochs):\n",
        "    for data in train_loader:\n",
        "        inputs, _ = data\n",
        "        inputs = inputs.view(inputs.size(0), -1)  # Flatten\n",
        "\n",
        "        optimizer.zero_grad()\n",
        "\n",
        "        # Forward\n",
        "        outputs = autoencoder(inputs)\n",
        "        loss = criterion(outputs, inputs)\n",
        "\n",
        "        # Backpropagation and optimization\n",
        "        loss.backward()\n",
        "        optimizer.step()\n",
        "\n",
        "    print(f\"Epoch [{epoch+1}/{num_epochs}] Loss: {loss.item():.4f}\")\n",
        "\n",
        "print(\"Training complete!\")"
      ]
    },
    {
      "cell_type": "code",
      "execution_count": 6,
      "metadata": {
        "id": "fn4RelDtWBRe"
      },
      "outputs": [],
      "source": [
        "encoded_data = autoencoder.encoder(inputs)"
      ]
    },
    {
      "cell_type": "code",
      "execution_count": 8,
      "metadata": {
        "id": "9nh4eH_tWC2d"
      },
      "outputs": [],
      "source": [
        "import matplotlib.pyplot as plt\n",
        "from sklearn.decomposition import PCA\n",
        "\n",
        "pca = PCA(n_components=2)\n",
        "encoded_data_2d = pca.fit_transform(encoded_data.detach().numpy())"
      ]
    },
    {
      "cell_type": "code",
      "execution_count": 10,
      "metadata": {
        "colab": {
          "base_uri": "https://localhost:8080/",
          "height": 472
        },
        "id": "9GjVw9Y3WdUQ",
        "outputId": "da86480d-4291-4394-f948-273a335176e9"
      },
      "outputs": [
        {
          "data": {
            "image/png": "[encoded data removed]",
            "text/plain": [
              "<Figure size 640x480 with 2 Axes>"
            ]
          },
          "metadata": {},
          "output_type": "display_data"
        }
      ],
      "source": [
        "plt.scatter(encoded_data_2d[:, 0], encoded_data_2d[:, 1])\n",
        "plt.title(\"Encoded Data Visualization (2D)\")\n",
        "plt.xlabel(\"Principal Component 1\")\n",
        "plt.ylabel(\"Principal Component 2\")\n",
        "plt.colorbar()\n",
        "plt.show()"
      ]
    },
    {
      "cell_type": "code",
      "execution_count": null,
      "metadata": {
        "id": "NBnhWkpHW_5C"
      },
      "outputs": [],
      "source": []
    }
  ],
  "metadata": {
    "accelerator": "GPU",
    "colab": {
      "gpuType": "T4",
      "provenance": []
    },
    "kernelspec": {
      "display_name": "Python 3",
      "name": "python3"
    },
    "language_info": {
      "name": "python"
    }
  },
  "nbformat": 4,
  "nbformat_minor": 0
}
