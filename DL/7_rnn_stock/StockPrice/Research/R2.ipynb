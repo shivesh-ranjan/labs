{
  "nbformat": 4,
  "nbformat_minor": 0,
  "metadata": {
    "colab": {
      "provenance": []
    },
    "kernelspec": {
      "name": "python3",
      "display_name": "Python 3"
    },
    "language_info": {
      "name": "python"
    }
  },
  "cells": [
    {
      "cell_type": "code",
      "source": [
        "import pandas as pd\n",
        "from prophet import Prophet\n",
        "import pickle\n",
        "import requests\n",
        "\n",
        "symbol=['AAPL', 'IBM', 'RELIANCE.BSE']\n",
        "\n",
        "# Load the models and evaluate accuracy for each symbol\n",
        "for i in symbol:\n",
        "    model_path = f'models/stock_model_{i}.pkl'\n",
        "    with open(model_path, 'rb') as f:\n",
        "        model = pickle.load(f)\n",
        "\n",
        "    # Load the data for the selected company using the Alpha Vantage API\n",
        "    api_key = '0VSSNFD1KRGASNV9'\n",
        "    url = f'https://www.alphavantage.co/query?function=TIME_SERIES_DAILY&symbol={i}&apikey={api_key}&outputsize=full'\n",
        "    response = requests.get(url)\n",
        "    data = response.json()\n",
        "\n",
        "    # Convert the JSON response to a Pandas DataFrame\n",
        "    time_series_data = data['Time Series (Daily)']\n",
        "    timestamps = list(time_series_data.keys())\n",
        "    close_prices = [float(data_point['4. close']) for data_point in time_series_data.values()]\n",
        "    df = pd.DataFrame({\n",
        "        'ds': pd.to_datetime(timestamps),  # Convert 'ds' column to datetime64[ns]\n",
        "        'y': close_prices\n",
        "    })\n",
        "\n",
        "    # Evaluate accuracy of the model\n",
        "    future_dates = model.make_future_dataframe(periods=len(df))\n",
        "    forecast = model.predict(future_dates)\n",
        "    forecast['ds'] = pd.to_datetime(forecast['ds'])  # Convert 'ds' column to datetime64[ns]\n",
        "    forecast = forecast[['ds', 'yhat']]\n",
        "\n",
        "    # Merge forecast with actual data for evaluation\n",
        "    merged_df = pd.merge(df, forecast, on='ds', how='inner')\n",
        "\n",
        "    # Calculate R-squared value\n",
        "    y_actual = merged_df['y']\n",
        "    y_predicted = merged_df['yhat']\n",
        "    ss_res = ((y_actual - y_predicted) ** 2).sum()\n",
        "    ss_tot = ((y_actual - y_actual.mean()) ** 2).sum()\n",
        "    r2 = 1 - (ss_res / ss_tot)\n",
        "\n",
        "    print(f\"R-squared for {i}: {r2:.4f}\")"
      ],
      "metadata": {
        "colab": {
          "base_uri": "https://localhost:8080/"
        },
        "id": "NujGahvA67-C",
        "outputId": "87eb8416-a60e-4251-de14-e6cd1a728923"
      },
      "execution_count": 26,
      "outputs": [
        {
          "output_type": "stream",
          "name": "stdout",
          "text": [
            "R-squared for AAPL: 0.8890\n",
            "R-squared for IBM: 0.9387\n",
            "R-squared for RELIANCE.BSE: 0.9054\n"
          ]
        }
      ]
    },
    {
      "cell_type": "code",
      "source": [],
      "metadata": {
        "id": "o21ac8L67NwB"
      },
      "execution_count": null,
      "outputs": []
    }
  ]
}